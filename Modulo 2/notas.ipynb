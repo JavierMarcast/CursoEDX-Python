{
 "cells": [
  {
   "cell_type": "markdown",
   "metadata": {},
   "source": [
    "# Notas del modulo 2 del curso de python"
   ]
  },
  {
   "cell_type": "markdown",
   "metadata": {},
   "source": [
    "## Eliminar valores Nan\n",
    "Para Eliminar este tipo de datos que por alguna razon quedan nulos, en python existe con la biblioteca de Panda, el metodo integrado llamado dropna, el cual de aplica de la siguiente manera:\n",
    "\n",
    "### df.dropna(subset=[\"Price\"], axis=0, inplace = True)\n",
    "\n",
    "df= data frame.\n",
    "\n",
    "dropna = nombre del metodo.\n",
    "\n",
    "subset = donde buscara el nan, axis = 0 es para que busque en nan en la fila, si quisieramos buscar en la columna seria con el valor 1.\n",
    "\n",
    "inplace = \"true\" permite que la modificacion se haga en el conjunto de datos directamente."
   ]
  },
  {
   "cell_type": "markdown",
   "metadata": {},
   "source": [
    "## Remplazar Valores Nan\n",
    "\n",
    "Para remplazar los valores Nan se utiliza el metodo .replace, los valores se pueden modificar a como el cientifico de datos le paresca mejor, es bueno remplazarlo por la informacion correcta, es cierto que no siempre se contara con dicha informacion, pero se puede remplazar con informacion que se tiene, por ejemplo en los datos numericos se puede hacer un remplazo por promedio si el caso lo permite, otro ejemplo seria con situaciones descriptivas por ejemplo si faltara el tipo de combistible no se podria aplicar el promedio ya que no hay numero que promediar, pero se puede utilizar la moda como un posible dato correcto.\n",
    "\n",
    "El metodo  .replace de utiliza de la siguiente manera:\n",
    "\n",
    "mean = df[\"normalized-losses\"].mean() (En esta linea de codigo se calcula la media)\n",
    "\n",
    "### df[\"normalized-losses\"].replace(np.nan, mean) \n",
    "\n",
    "np.nan = es el valor que buscamos.\n",
    "\n",
    "mean = sera el valor por el que sustituiremos en este caso sera la media.\n"
   ]
  },
  {
   "cell_type": "markdown",
   "metadata": {},
   "source": [
    "# Formateo de datos\n",
    "Para este tema puede ocurrir que los valores que tengamos no nos sirvan ya que pueden estar en diferente conversion dependiendo el lugar de origen, o puedan estar abrebidados, para este caso se pude utilizar el metodo .rename.\n",
    "\n",
    "ejemplo:\n",
    "\n",
    "df[\"city-mpg\"]= 235/df[\"city-mpg\"] (en esta linea se hace la conversion de galones en litros a los 100 kilometros)\n",
    "\n",
    "### df.rename(columns = {\"city_mpg\": \"city_L/100 km\"}, inplace=true) \n",
    "(en este metodo se dan dos valores, el primero es el nombre de la columna a la que se quiere renombrar y despues de los dos puntos se da el nombre de como se llamara)"
   ]
  },
  {
   "cell_type": "markdown",
   "metadata": {},
   "source": [
    "## Cambiar los tipos de valores\n",
    "\n",
    "Para este caso existe la opcion que los valores de tipo entero los guarde como tipo de objeto, para este caso se pueden editar los tipos de valores para no causar problemas futuros y esto se puede hacer con el metodo .astype\n",
    "\n",
    "ejemplo:\n",
    "\n",
    "### df[\"price\"] = df[\"price\"].astype(\"int\") \n",
    "como primera parte elegimos el valor a modificar en este caso \"Price\", lo igualamos para referenciar que sufrira una asignacion, en este caso solo asignamos que sea el mismo nombre solo que se modifique el tipo.\n"
   ]
  },
  {
   "cell_type": "markdown",
   "metadata": {},
   "source": [
    "## Normalizacion de datos.\n",
    "La normalizacion de datos es importante ya que hace mas \"digerible\" el analisis de datos, ya que en ocasiones pueden existir valores que son muy grandes y no hacen buen contraste con los valores que se tiene, para esto se hace una normalizacion de datos para poder tener un mejor rango de los datos.\n",
    "\n",
    "Hay varias maneras de normalizar los datos.\n",
    "\n",
    "1.- Escalado simple:\n",
    "Xnew = Xold/Xmax : este metodo divide cada valor por el maximo de esa caracteristica, esto hace que los nuevos valores osilen entre 0 y 1.\n",
    "\n",
    "#### ejemplo: df[\"length\"]= df[\"length\"] /df[\"length\"].max()\n",
    "\n",
    "2.-Min- Man\n",
    "Xnew = Xold-Xmin/Xmax-Xmin: este metodo toma cada valor antiguo lo resta del valor minimo de esa caracteristica, y luego lo divide por el rango de esa caracteristica, igual que el escalado simple los nuevos valores osilan entre 0 y 1.\n",
    "#### ejemplo: df[\"length\"]= (df[\"length\"] - df[\"length\"].min()) / (df[\"length\"].max()- df[\"length\"].min())\n",
    "\n",
    "3.- Z-score / puntuacion estandar.\n",
    "Xnew = Xold- u / o´= en esta formula, para cada valor se resta el mu, que es la medida de la caracteristica y luego se divide por la desviacion estandar sigma, los valores resultante osilan entre 0 y normalmente ocilan entre tres negativos y tres positios.\n",
    "\n",
    "#### ejemplo: df[\"length\"]= (df[\"length\"] - df[\"length\"].mean()) / df[\"length\"].std() \n",
    "(el metodo mean devolvera el valor medio de la caracteristica en el conjunto de datos y el metodo de STD devolvera la desviacion estandar de las caracteristicasd en el conjunto de datos)"
   ]
  },
  {
   "cell_type": "markdown",
   "metadata": {},
   "source": [
    "## Discretizacion \n",
    "\n",
    "El uso de este metodo nos ayuda a dividir en bloques la informacion para el correcto analisis.\n",
    "por ejemplo, se tiene los valores de los precios de los automoviles y se quieren dividir por precios \"Altos\",\"Medios\" y \"Bajos\" para esto utilizamos la funcion benning:\n",
    "\n",
    "### bins = np.linspace(min(df[\"price\"]), max(df[\"price\"]),4)\n",
    "\n",
    "Para este ejemplo usamos la funcion de numpy \"linspace\" para devolver el array \"bins\" (Contenedores) que contine 4 numeros espaciados en el intervalo especificado del precio.\n",
    "\n",
    "### group_names = [\"Low\",\"Medium\",\"High\"]\n",
    "\n",
    "Creamos una lista \"group_names\", que contiene los diferenetes nombre de los contenedores.\n",
    "\n",
    "### df[\"price-binned\"] = pd.cut(df[\"price\"], bins, labels = group_names, include_lowest = True)\n",
    "\n",
    "Usamos la funcion de pandas cut para segmentar y ordenar los valores de los datos en los contenedores."
   ]
  },
  {
   "cell_type": "markdown",
   "metadata": {},
   "source": [
    "## Convertir variables categoricas en variables cuantitativas en python.\n",
    "\n",
    "La mayoria de los modelos estadisticos no pueden tomar objetos o cadenas como entrada y para el entrenamiento de modelos solo aceptan numeros como entrada.\n",
    "\n",
    "Para este ejemplo tenemos el conjunto de datos de vehiculos, la caracteristica tipo combustible como variable categorica tiene dos valores: gasolina y diesel que esta formado por el tipo de variable string, esto es una desventaja ya que para el analis profundo necesitamos variables que puedan ser contables, para esto tenemos que convertir estas variables en algun tipo de formato numerico.\n",
    "Para esto creamos dos nuevas caracteristicas gasolina y diesel, cuando se trate de alguno de estos vaores en dicha caracteristica se pondra un 1 y para el resto de las categorias se pondra un 0.\n",
    "\n",
    "En pandas, podemos usar el metodo get_dummies para convertir variables categoricas en variables ficticias. \n",
    "\n",
    "En python podemos tranformar varables categoricas en variables ficticias de este modo:\n",
    "\n",
    "#### pd.get_dummies(df['fuel'])\n",
    "\n",
    "Obtiene la columna de tipo de combustible y crea el marco de datos dummy_variable_1, el metodo get_dummies genera automaticamente una lista de numeros cada uno correspondiente a una categoria en especial de la variable.\n"
   ]
  },
  {
   "cell_type": "markdown",
   "metadata": {},
   "source": [
    "\n"
   ]
  }
 ],
 "metadata": {
  "language_info": {
   "name": "python"
  },
  "orig_nbformat": 4
 },
 "nbformat": 4,
 "nbformat_minor": 2
}
