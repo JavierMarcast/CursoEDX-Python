{
 "cells": [
  {
   "cell_type": "markdown",
   "metadata": {},
   "source": [
    "## Estadistica descriptiva\n",
    "\n",
    "cuando se empieza a analizar datos es importante examinarlos primero antes de dedicar tiempo de crear modelos complicados una forma facil de hacerlo es calcular algunas estadisticas descriptivas primero para los datos.\n",
    "El analisis estadistico descriptivo ayuda a describir las caracteristicas basicas de un conjunto de datos y obtiene un breve resumen sobre la muestra y las mediciones de los datos, a continuacion se mostraran un par de metodos utiles.\n",
    "\n",
    "Una forma de lo que podemos hacer es usando la funcion describe de pandas \n",
    "\n",
    "#### df.describe\n",
    "\n",
    "La funcion describe calcula automaticamente las estadisticas basicas de todas las variables numericas, muestra la media, el numero total de puntos de los datos, la desviacion estandar, los cuartiles y los valores extremos. Cualquier valor Nan de salta de manera automatica en estas estadisticas, con esta funcion nos podemos dar una idea mas clara de la distribucion delas diferentes variables.\n",
    "\n",
    "Tambien se puede tener variables categoricas en el conjunto de datos, estas son variables que pueden dividirse en diferentes categorias o grupos y tienen valores discretos, por ejemplo el conjunto de datos se tiene el apartado \"Drive system\" como una variable categorica en la que nos encontramos con traccion delantera, traccion trasera y traccion en las 4 ruedas.\n",
    "Una forma de resumir los datos categoricos es usando la funcion de values_counts.\n",
    "\n",
    "### drive_wheels_count = df[\"drive_wheels\"].value_counts()\n",
    "\n",
    "se puede cambiar el nombre de la columna para que sea mas facil de leer.\n",
    " \n",
    "### drive_wheels_count.rename(columns ={'drive-wheels':'value_counts'}, implace=True)\n",
    "\n",
    "### drive_wheels_count.index.name = 'drive_wheels'\n",
    "\n",
    "\n",
    "Uno de los temas importantes son los graficos de caja, son una gran manera de visualizar los datos numericos, ya que pueden visualizar las diversas distribuciones de los datos.\n",
    "\n",
    "(para la siguiente explicacion utilizaremos la imagen 1, de la carpeta media)\n",
    "\n",
    "La principales caracteristicas que muestra el grafico de caja son la medida de los datos, que representa donde esta el punto medio de los datos.\n",
    "\n",
    "El cuartil superior muestra donde esta el percentil 75.\n",
    "\n",
    "El cuartil inferior muestra donde esta el percentil 25.\n",
    "\n",
    "\n",
    "Los datos entre el cuartil superior e inferior  representa el rango intercuartil, tambien se tiene los extremos inferior y superior estos se calculan como 1,5 veces el ranfo intercualtil por encima y el percentil 75 y como 1,5 veces IQR por debajo de percentil 25.\n",
    "\n",
    "Por ultimo, los graficos de cajas tambien muestran los valores atipicos como puntos individuales que se producen fuera de los extremos superior e inferior.\n",
    "Con los graficos de caja, se pueden detectar facilmente los valores atipicos y tambien ver la distribucion y la asimetria de los datos.\n",
    "\n",
    "Los graficos de caja facilitan la comparacion entre grupos, en el ejemplo de la figura 2 se usa el grafico de cajas, se puede ver la distribucion de las diferentes categorias de las caracteristicas traccion (\"drive wheels\") sobre la caracteristica precio.\n",
    "Se puede ver que la distribucion del precio entre la traccion trasera y las otras categorias son distintas, pero el precio de la traccion delantera y la traccion a las cuatro ruedas son casi indistinguibles.\n",
    "\n",
    "En ocaciones tenemos variables continuas en nuestros datos, estos puntos de datos son numericos contenidos en algun rango, en este ejemplo tenemos dos variables continuas que son el precio y el tamaño del motor y si queremos entener la relacion entre ellas sera visualizar usando el grafico de dispersion, cada observacion se representa en el grafico de dispersion como un punto.\n",
    "Este grafico muestra la relacion entre dos variables, la variable predictiva es la variable que se utiiza para predecir un resultado.\n",
    "En este caso, nuestra variable predictiva es el tamaño del motor, la variable objetivo es la variable que estas tratando de predecir\n",
    "\n",
    "\n",
    "\n"
   ]
  }
 ],
 "metadata": {
  "language_info": {
   "name": "python"
  },
  "orig_nbformat": 4
 },
 "nbformat": 4,
 "nbformat_minor": 2
}
